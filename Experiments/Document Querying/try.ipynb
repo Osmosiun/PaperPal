{
 "cells": [
  {
   "cell_type": "code",
   "execution_count": null,
   "metadata": {},
   "outputs": [],
   "source": [
    "provider \"aws\" {\n",
    "  region = \"us-east-1\" # Change to your preferred region\n",
    "}\n",
    "\n",
    "resource \"aws_docdb_cluster\" \"document_querying_rag\" {\n",
    "  cluster_identifier      = \"document_querying_rage_cluster\"\n",
    "  engine                  = \"docdb\"\n",
    "  master_username         = \"admin\"\n",
    "  master_password         = \"admin123\"\n",
    "  backup_retention_period = 5\n",
    "}\n",
    "\n",
    "resource \"aws_docdb_cluster_instance\" \"document_querying_rag_instance\" {\n",
    "  cluster_identifier = aws_docdb_cluster.document_querying_rag.id\n",
    "  instance_class     = \"db.t3.medium\"\n",
    "}\n",
    "\n",
    "resource \"aws_security_group\" \"docdb_sg\" {\n",
    "  name_prefix = \"docdb-sg\"\n",
    "\n",
    "  ingress {\n",
    "    from_port   = 27017\n",
    "    to_port     = 27017\n",
    "    protocol    = \"tcp\"\n",
    "    cidr_blocks = [\"0.0.0.0/0\"] # Restrict to your IP range for security\n",
    "  }\n",
    "\n",
    "  egress {\n",
    "    from_port   = 0\n",
    "    to_port     = 0\n",
    "    protocol    = \"-1\"\n",
    "    cidr_blocks = [\"0.0.0.0/0\"]\n",
    "  }\n",
    "}\n",
    "\n",
    "resource \"aws_docdb_subnet_group\" \"document_querying_rag_subnet\" {\n",
    "  name       = \"docdb-subnet-group\"\n",
    "  subnet_ids = [\"subnet-0d5e70cd5b7a51efc\"] # Replace with your subnet IDs\n",
    "}\n"
   ]
  }
 ],
 "metadata": {
  "kernelspec": {
   "display_name": "paperpal",
   "language": "python",
   "name": "python3"
  },
  "language_info": {
   "codemirror_mode": {
    "name": "ipython",
    "version": 3
   },
   "file_extension": ".py",
   "mimetype": "text/x-python",
   "name": "python",
   "nbconvert_exporter": "python",
   "pygments_lexer": "ipython3",
   "version": "3.12.8"
  }
 },
 "nbformat": 4,
 "nbformat_minor": 2
}
