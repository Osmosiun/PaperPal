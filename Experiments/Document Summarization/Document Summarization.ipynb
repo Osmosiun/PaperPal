{
 "cells": [
  {
   "cell_type": "code",
   "execution_count": null,
   "metadata": {
    "vscode": {
     "languageId": "plaintext"
    }
   },
   "outputs": [],
   "source": []
  },
  {
   "cell_type": "markdown",
   "metadata": {},
   "source": [
    "# Logic:\n",
    "1. breaking down the Document in small chunks and then passing to summary model.\n",
    "2. The summaries will be combined and then again passed to the summary model which will gives us final summary. Caution: Does the generated summaries are still exceeding the model's length\n",
    "3. need to study about different model parameters like max_length etc."
   ]
  }
 ],
 "metadata": {
  "language_info": {
   "name": "python"
  }
 },
 "nbformat": 4,
 "nbformat_minor": 2
}
